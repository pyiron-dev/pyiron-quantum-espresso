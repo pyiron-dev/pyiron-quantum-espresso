{
 "cells": [
  {
   "cell_type": "code",
   "execution_count": 1,
   "metadata": {},
   "outputs": [],
   "source": [
    "import os"
   ]
  },
  {
   "cell_type": "code",
   "execution_count": 2,
   "metadata": {},
   "outputs": [
    {
     "name": "stderr",
     "output_type": "stream",
     "text": [
      "/home/janssen/mambaforge/lib/python3.10/site-packages/h5py/__init__.py:36: UserWarning: h5py is running against HDF5 1.14.3 when it was built against 1.14.2, this may cause problems\n",
      "  _warn((\"h5py is running against HDF5 {0} when it was built against {1}, \"\n"
     ]
    }
   ],
   "source": [
    "from ase.build import bulk\n",
    "from ase.calculators.espresso import Espresso\n",
    "from ase.io import write\n",
    "from pwtools import io"
   ]
  },
  {
   "cell_type": "code",
   "execution_count": 3,
   "metadata": {
    "tags": []
   },
   "outputs": [],
   "source": [
    "import subprocess"
   ]
  },
  {
   "cell_type": "code",
   "execution_count": 4,
   "metadata": {},
   "outputs": [],
   "source": [
    "import numpy as np"
   ]
  },
  {
   "cell_type": "code",
   "execution_count": 5,
   "metadata": {},
   "outputs": [],
   "source": [
    "import matplotlib.pyplot as plt"
   ]
  },
  {
   "cell_type": "markdown",
   "metadata": {},
   "source": [
    "# Functions "
   ]
  },
  {
   "cell_type": "code",
   "execution_count": 6,
   "metadata": {},
   "outputs": [],
   "source": [
    "def write_input_calc_minimize(input_dict, working_directory=\".\"):\n",
    "    filename = os.path.join(working_directory, 'relax.pwi')\n",
    "    os.makedirs(working_directory, exist_ok=True)\n",
    "    input_data_relax = {\n",
    "        'calculation': 'vc-relax',\n",
    "        'cell_dofree': 'ibrav',\n",
    "    }\n",
    "    write(\n",
    "        filename=filename, \n",
    "        images=input_dict[\"structure\"], \n",
    "        Crystal=True, \n",
    "        kpts=input_dict[\"kpts\"], \n",
    "        input_data=input_data_relax, \n",
    "        pseudopotentials=input_dict[\"pseudopotentials\"],\n",
    "        tstress=True, \n",
    "        tprnfor=True\n",
    "    )"
   ]
  },
  {
   "cell_type": "code",
   "execution_count": 7,
   "metadata": {},
   "outputs": [],
   "source": [
    "def write_input_calc_static(input_dict, working_directory=\".\"):\n",
    "    filename = os.path.join(working_directory, 'static.pwi')\n",
    "    os.makedirs(working_directory, exist_ok=True)\n",
    "    input_data_static = {\n",
    "        'calculation': 'scf', # A string describing the task to be performed.\n",
    "    }\n",
    "    write(\n",
    "        filename=filename, \n",
    "        images=input_dict[\"structure\"], \n",
    "        Crystal=True, \n",
    "        kpts=input_dict[\"kpts\"], \n",
    "        input_data=input_data_static, \n",
    "        pseudopotentials=input_dict[\"pseudopotentials\"],\n",
    "        tstress=True, \n",
    "        tprnfor=True\n",
    "    )"
   ]
  },
  {
   "cell_type": "code",
   "execution_count": 8,
   "metadata": {},
   "outputs": [],
   "source": [
    "def collect_output_calc_minimize(working_directory=\".\"):\n",
    "    filename = os.path.join(working_directory, 'relax.pwo')\n",
    "    return {\"structure\": io.read_pw_md(filename)[-1].get_ase_atoms()}"
   ]
  },
  {
   "cell_type": "code",
   "execution_count": 9,
   "metadata": {},
   "outputs": [],
   "source": [
    "def collect_output_calc_static(working_directory=\".\"):\n",
    "    filename = os.path.join(working_directory, 'static.pwo')\n",
    "    out = io.read_pw_scf(filename)\n",
    "    return {\n",
    "        \"energy\": out.etot,\n",
    "        \"volume\": out.volume,\n",
    "    }"
   ]
  },
  {
   "cell_type": "markdown",
   "metadata": {},
   "source": [
    "# Workflow"
   ]
  },
  {
   "cell_type": "markdown",
   "metadata": {},
   "source": [
    "## Structure Optimization"
   ]
  },
  {
   "cell_type": "code",
   "execution_count": 10,
   "metadata": {},
   "outputs": [],
   "source": [
    "structure = bulk('Al', a=4.15, cubic=True)"
   ]
  },
  {
   "cell_type": "code",
   "execution_count": 11,
   "metadata": {},
   "outputs": [],
   "source": [
    "pseudopotentials = {\"Al\": \"Al.pbe-n-kjpaw_psl.1.0.0.UPF\"}"
   ]
  },
  {
   "cell_type": "code",
   "execution_count": 12,
   "metadata": {
    "tags": []
   },
   "outputs": [],
   "source": [
    "write_input_calc_minimize(\n",
    "    input_dict={\n",
    "        \"structure\": structure, \n",
    "        \"pseudopotentials\": pseudopotentials, \n",
    "        \"kpts\": (3, 3, 3),\n",
    "    },\n",
    "    working_directory=\"relax\",\n",
    ")"
   ]
  },
  {
   "cell_type": "code",
   "execution_count": 13,
   "metadata": {},
   "outputs": [
    {
     "name": "stderr",
     "output_type": "stream",
     "text": [
      "Note: The following floating-point exceptions are signalling: IEEE_OVERFLOW_FLAG IEEE_DENORMAL\n"
     ]
    },
    {
     "data": {
      "text/plain": [
       "''"
      ]
     },
     "execution_count": 13,
     "metadata": {},
     "output_type": "execute_result"
    }
   ],
   "source": [
    "subprocess.check_output(\n",
    "    \"ESPRESSO_PSEUDO=${CONDA_PREFIX}/share/sssp/precision mpirun -np 1 pw.x -in relax.pwi > relax.pwo\", \n",
    "    shell=True, \n",
    "    universal_newlines=True, \n",
    "    cwd=\"relax\"\n",
    ")"
   ]
  },
  {
   "cell_type": "code",
   "execution_count": 14,
   "metadata": {
    "tags": []
   },
   "outputs": [
    {
     "data": {
      "text/plain": [
       "Atoms(symbols='Al4', pbc=False, cell=[4.138713030999999, 4.138713030999999, 4.138713030999999])"
      ]
     },
     "execution_count": 14,
     "metadata": {},
     "output_type": "execute_result"
    }
   ],
   "source": [
    "output_dict = collect_output_calc_minimize(working_directory=\"relax\")\n",
    "structure_opt = output_dict[\"structure\"]\n",
    "structure_opt"
   ]
  },
  {
   "cell_type": "markdown",
   "metadata": {},
   "source": [
    "## Energy Volume Curve"
   ]
  },
  {
   "cell_type": "code",
   "execution_count": 15,
   "metadata": {},
   "outputs": [],
   "source": [
    "energy_lst, volume_lst = [], []\n",
    "for strain in np.linspace(0.9, 1.1, 5):\n",
    "    # Apply Strain\n",
    "    structure_strain = structure_opt.copy()\n",
    "    structure_strain = structure.copy()\n",
    "    structure_strain.set_cell(structure_strain.cell * strain**(1/3), scale_atoms=True)\n",
    "\n",
    "    # Calculate Energy\n",
    "    write_input_calc_static(\n",
    "        input_dict={\n",
    "            \"structure\": structure_strain, \n",
    "            \"pseudopotentials\": pseudopotentials, \n",
    "            \"kpts\": (3, 3, 3),\n",
    "        },\n",
    "        working_directory=\"strain\"\n",
    "    )\n",
    "    subprocess.check_output(\n",
    "        \"ESPRESSO_PSEUDO=${CONDA_PREFIX}/share/sssp/precision mpirun -np 1 pw.x -in static.pwi > static.pwo\", \n",
    "        shell=True, \n",
    "        universal_newlines=True, \n",
    "        cwd=\"strain\"\n",
    "    )\n",
    "    output_dict = collect_output_calc_static(working_directory=\"strain\")\n",
    "\n",
    "    # Append Output to list\n",
    "    energy_lst.append(output_dict[\"energy\"])\n",
    "    volume_lst.append(output_dict[\"volume\"])"
   ]
  },
  {
   "cell_type": "markdown",
   "metadata": {},
   "source": [
    "# Result"
   ]
  },
  {
   "cell_type": "code",
   "execution_count": 16,
   "metadata": {},
   "outputs": [
    {
     "data": {
      "text/plain": [
       "Text(0, 0.5, 'Energy')"
      ]
     },
     "execution_count": 16,
     "metadata": {},
     "output_type": "execute_result"
    },
    {
     "data": {
      "image/png": "[encoded data removed]",
      "text/plain": [
       "<Figure size 640x480 with 1 Axes>"
      ]
     },
     "metadata": {},
     "output_type": "display_data"
    }
   ],
   "source": [
    "plt.plot(volume_lst, energy_lst)\n",
    "plt.xlabel(\"Volume\")\n",
    "plt.ylabel(\"Energy\")"
   ]
  },
  {
   "cell_type": "code",
   "execution_count": null,
   "metadata": {},
   "outputs": [],
   "source": []
  }
 ],
 "metadata": {
  "kernelspec": {
   "display_name": "Python 3 (ipykernel)",
   "language": "python",
   "name": "python3"
  },
  "language_info": {
   "codemirror_mode": {
    "name": "ipython",
    "version": 3
   },
   "file_extension": ".py",
   "mimetype": "text/x-python",
   "name": "python",
   "nbconvert_exporter": "python",
   "pygments_lexer": "ipython3",
   "version": "3.10.13"
  }
 },
 "nbformat": 4,
 "nbformat_minor": 4
}
